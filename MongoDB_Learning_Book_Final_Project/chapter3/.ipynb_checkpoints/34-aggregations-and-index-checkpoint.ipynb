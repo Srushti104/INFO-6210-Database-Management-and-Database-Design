{
 "cells": [
  {
   "cell_type": "markdown",
   "metadata": {},
   "source": [
    "### MongoDB Aggregation Pipeline Operators and MongoDB Index"
   ]
  },
  {
   "cell_type": "markdown",
   "metadata": {},
   "source": [
    ">- [Aggregation Pipeline Operators](#Aggregation-Pipeline-Operators)\n",
    ">- [MongoDB Index](#MongoDB-Index)"
   ]
  },
  {
   "cell_type": "markdown",
   "metadata": {},
   "source": [
    "***"
   ]
  },
  {
   "cell_type": "code",
   "execution_count": null,
   "metadata": {},
   "outputs": [],
   "source": [
    "import pymongo\n",
    "from pprint import pprint\n",
    "client = pymongo.MongoClient(\"mongodb://localhost:27017/\")\n",
    "db = client[\"database\"]\n",
    "collection = db[\"movies\"]"
   ]
  },
  {
   "cell_type": "code",
   "execution_count": null,
   "metadata": {},
   "outputs": [],
   "source": [
    "movies =[ {\"title\":\"A Million Ways to Die in the West\",\"year\":2014,\"rated\":\"R\",\"runtime\":116,\"countries\":[\"USA\"],\"genres\":[\"Comedy\",\"Western\"],\"director\":\"Seth MacFarlane\",\"writers\":[\"Seth MacFarlane\",\"Alec Sulkin\",\"Wellesley Wild\"],\"actors\":[\"Seth MacFarlane\",\"Charlize Theron\",\"Amanda Seyfried\",\"Liam Neeson\"],\"plot\":\"As a cowardly farmer begins to fall for the mysterious new woman in town, he must put his new-found courage to the test when her husband, a notorious gun-slinger, announces his arrival.\",\"poster\":\"http://ia.media-imdb.com/images/M/MV5BMTQ0NDcyNjg0MV5BMl5BanBnXkFtZTgwMzk4NTA4MTE@._V1_SX300.jpg\",\"imdb\":{\"id\":\"tt2557490\",\"rating\":6.1,\"votes\":126592},\"tomato\":{\"meter\":33,\"image\":\"rotten\",\"rating\":4.9,\"reviews\":188,\"fresh\":62,\"consensus\":\"While it offers a few laughs and boasts a talented cast, Seth MacFarlane's overlong, aimless A Million Ways to Die in the West is a disappointingly scattershot affair.\",\"userMeter\":40,\"userRating\":3,\"userReviews\":62945},\"metacritic\":44,\"awards\":{\"wins\":0,\"nominations\":6,\"text\":\"6 nominations.\"},\"type\":\"movie\"},{\"title\":\"West Side Story\",\"year\":1961,\"rated\":\"UNRATED\",\"runtime\":152,\"countries\":[\"USA\"],\"genres\":[\"Crime\",\"Drama\",\"Musical\"],\"director\":\"Jerome Robbins, Robert Wise\",\"writers\":[\"Ernest Lehman\",\"Arthur Laurents\",\"Jerome Robbins\"],\"actors\":[\"Natalie Wood\",\"Richard Beymer\",\"Russ Tamblyn\",\"Rita Moreno\"],\"plot\":\"Two youngsters from rival New York City gangs fall in love, but tensions between their respective friends build toward tragedy.\",\"poster\":\"http://ia.media-imdb.com/images/M/MV5BMTM0NDAxOTI5MF5BMl5BanBnXkFtZTcwNjI4Mjg3NA@@._V1_SX300.jpg\",\"imdb\":{\"id\":\"tt0055614\",\"rating\":7.6,\"votes\":67824},\"awards\":{\"wins\":18,\"nominations\":11,\"text\":\"Won 10 Oscars. Another 18 wins \\u0026 11 nominations.\"},\"type\":\"movie\"},\n",
    "{\"title\":\"Slow West\",\"year\":2015,\"rated\":\"R\",\"runtime\":84,\"countries\":[\"UK\",\"New Zealand\"],\"genres\":[\"Action\",\"Thriller\",\"Western\"],\"director\":\"John Maclean\",\"writers\":[\"John Maclean\"],\"actors\":[\"Kodi Smit-McPhee\",\"Michael Fassbender\",\"Ben Mendelsohn\",\"Aorere Paki\"],\"plot\":\"A young Scottish man travels across America in pursuit of the woman he loves, attracting the attention of an outlaw who is willing to serve as a guide.\",\"poster\":\"http://ia.media-imdb.com/images/M/MV5BNTYxNDA5ODk5NF5BMl5BanBnXkFtZTgwNzMwMzIwNTE@._V1_SX300.jpg\",\"imdb\":{\"id\":\"tt3205376\",\"rating\":7,\"votes\":19101},\"tomato\":{\"meter\":92,\"image\":\"certified\",\"rating\":7.5,\"reviews\":115,\"fresh\":106,\"consensus\":\"Slow West serves as an impressive calling card for first-time writer-director John M. Maclean -- and offers an inventive treat for fans of the Western.\",\"userMeter\":75,\"userRating\":3.7,\"userReviews\":9850},\"metacritic\":72,\"awards\":{\"wins\":2,\"nominations\":9,\"text\":\"2 wins \\u0026 9 nominations.\"},\"type\":\"movie\"},\n",
    "{\"title\":\"An American Tail: Fievel Goes West\",\"year\":1991,\"rated\":\"G\",\"runtime\":75,\"countries\":[\"USA\"],\"genres\":[\"Animation\",\"Adventure\",\"Family\"],\"director\":\"Phil Nibbelink, Simon Wells\",\"writers\":[\"Flint Dille\",\"Charles Swenson\",\"David Kirschner\"],\"actors\":[\"Phillip Glasser\",\"James Stewart\",\"Erica Yohn\",\"Cathy Cavadini\"],\"plot\":\"A family of Emigre mice decide to move out to the west, unaware that they are falling into a trap perpetrated by a smooth talking cat.\",\"poster\":\"http://ia.media-imdb.com/images/M/MV5BMTYzODMxNTUyNF5BMl5BanBnXkFtZTcwMTAwMzQyMQ@@._V1_SX300.jpg\",\"imdb\":{\"id\":\"tt0101329\",\"rating\":6.4,\"votes\":16013},\"awards\":{\"wins\":0,\"nominations\":0,\"text\":\"\"},\"type\":\"movie\"},\n",
    "{\"title\":\"Red Rock West\",\"year\":1993,\"rated\":\"R\",\"runtime\":98,\"countries\":[\"USA\"],\"genres\":[\"Crime\",\"Drama\",\"Thriller\"],\"director\":\"John Dahl\",\"writers\":[\"John Dahl\",\"Rick Dahl\"],\"actors\":[\"Nicolas Cage\",\"Dennis Hopper\",\"Lara Flynn Boyle\",\"J.T. Walsh\"],\"plot\":\"When a promised job for Texan Michael fails to materialise in Wyoming, Mike is mistaken by Wayne to be the hitman he hired to kill his unfaithful wife, Suzanne. Mike takes full advantage of...\",\"poster\":\"http://ia.media-imdb.com/images/M/MV5BMTk0Mjg4OTc3OF5BMl5BanBnXkFtZTYwNzgzOTg5._V1_SX300.jpg\",\"imdb\":{\"id\":\"tt0105226\",\"rating\":7,\"votes\":15007},\"awards\":{\"wins\":0,\"nominations\":3,\"text\":\"3 nominations.\"},\"type\":\"movie\"},\n",
    "{\"title\":\"How the West Was Won\",\"year\":1962,\"rated\":\"APPROVED\",\"runtime\":164,\"countries\":[\"USA\"],\"genres\":[\"Western\"],\"director\":\"John Ford, Henry Hathaway, George Marshall, Richard Thorpe\",\"writers\":[\"James R. Webb\"],\"actors\":[\"Carroll Baker\",\"Lee J. Cobb\",\"Henry Fonda\",\"Carolyn Jones\"],\"plot\":\"A family saga covering several decades of Westward expansion in the nineteenth century--including the Gold Rush, the Civil War, and the building of the railroads.\",\"poster\":\"http://ia.media-imdb.com/images/M/MV5BNTk2NDk1NjY0MV5BMl5BanBnXkFtZTgwMzkzNTcxMTE@._V1_SX300.jpg\",\"imdb\":{\"id\":\"tt0056085\",\"rating\":7.1,\"votes\":13640},\"awards\":{\"wins\":7,\"nominations\":5,\"text\":\"Won 3 Oscars. Another 7 wins \\u0026 5 nominations.\"},\"type\":\"movie\"},\n",
    "{\"title\":\"Journey to the West\",\"year\":2013,\"rated\":\"PG-13\",\"runtime\":110,\"countries\":[\"China\"],\"genres\":[\"Adventure\",\"Comedy\",\"Fantasy\"],\"director\":\"Stephen Chow, Chi-kin Kwok\",\"writers\":[\"Stephen Chow\",\"Chi-kin Kwok\",\"Xin Huo\",\"Yun Wang\",\"Chi Keung Fung\",\"Zhengyu Lu\",\"Shing-Cheung Lee\",\"Ivy Kong\"],\"actors\":[\"Qi Shu\",\"Zhang Wen\",\"Bo Huang\",\"Show Luo\"],\"plot\":\"Tang Sanzang, an aspiring Buddhist hero tries to protect a village from three demons. He develops complex feelings for Miss Duan, the demon hunter who repeatedly helps him, and finally quests to meet the legendary Monkey King.\",\"poster\":\"http://ia.media-imdb.com/images/M/MV5BMTQzMzUxNzk0NV5BMl5BanBnXkFtZTgwMTEwOTE4MDE@._V1_SX300.jpg\",\"imdb\":{\"id\":\"tt2017561\",\"rating\":6.8,\"votes\":7111},\"tomato\":{\"meter\":93,\"image\":\"fresh\",\"rating\":7.2,\"reviews\":30,\"fresh\":28,\"consensus\":\"As sweet, silly, action-packed and ridiculous as director Steven Chow's best work, Journey to the West serves up dazzling action sequences while playing its disparate elements against each other with thrilling abandon.\",\"userMeter\":68,\"userRating\":3.6,\"userReviews\":2198},\"metacritic\":68,\"awards\":{\"wins\":1,\"nominations\":12,\"text\":\"1 win \\u0026 12 nominations.\"},\"type\":\"movie\"},\n",
    "{\"title\":\"West of Memphis\",\"year\":2012,\"rated\":\"R\",\"runtime\":147,\"countries\":[\"New Zealand\",\"USA\"],\"genres\":[\"Documentary\"],\"director\":\"Amy Berg\",\"writers\":[\"Amy Berg\",\"Billy McMillin\"],\"actors\":[\"Michael Baden\",\"Jason Baldwin\",\"Holly Ballard\",\"Jamie Clark Ballard\"],\"plot\":\"An examination of a failure of justice in the case against the West Memphis Three.\",\"poster\":\"http://ia.media-imdb.com/images/M/MV5BMjIzNDM3NjkzOV5BMl5BanBnXkFtZTcwNjI5Nzg0OA@@._V1_SX300.jpg\",\"imdb\":{\"id\":\"tt2130321\",\"rating\":7.9,\"votes\":6627},\"tomato\":{\"meter\":95,\"image\":\"certified\",\"rating\":7.9,\"reviews\":111,\"fresh\":106,\"consensus\":\"Both a sobering look at a true crime story and a scathing indictment of the American justice system, West of Memphis is a real-life horror story told with fury and compassion.\",\"userMeter\":87,\"userRating\":4.1,\"userReviews\":8482},\"metacritic\":80,\"awards\":{\"wins\":0,\"nominations\":9,\"text\":\"Nominated for 1 BAFTA Film Award. Another 9 nominations.\"},\"type\":\"movie\"},\n",
    "{\"title\":\"Star Wars: Episode IV - A New Hope\",\"year\":1977,\"rated\":\"PG\",\"runtime\":121,\"countries\":[\"USA\"],\"genres\":[\"Action\",\"Adventure\",\"Fantasy\"],\"director\":\"George Lucas\",\"writers\":[\"George Lucas\"],\"actors\":[\"Mark Hamill\",\"Harrison Ford\",\"Carrie Fisher\",\"Peter Cushing\"],\"plot\":\"Luke Skywalker joins forces with a Jedi Knight, a cocky pilot, a wookiee and two droids to save the universe from the Empire's world-destroying battle-station, while also attempting to rescue Princess Leia from the evil Darth Vader.\",\"poster\":\"http://ia.media-imdb.com/images/M/MV5BMTU4NTczODkwM15BMl5BanBnXkFtZTcwMzEyMTIyMw@@._V1_SX300.jpg\",\"imdb\":{\"id\":\"tt0076759\",\"rating\":8.7,\"votes\":822849},\"tomato\":{\"meter\":94,\"image\":\"certified\",\"rating\":8.5,\"reviews\":99,\"fresh\":93,\"consensus\":\"A legendarily expansive and ambitious start to the sci-fi saga, George Lucas opened our eyes to the possibilities of blockbuster filmmaking and things have never been the same.\",\"userMeter\":96,\"userRating\":4.1,\"userReviews\":851120},\"metacritic\":92,\"awards\":{\"wins\":38,\"nominations\":27,\"text\":\"Won 6 Oscars. Another 38 wins \\u0026 27 nominations.\"},\"type\":\"movie\"},\n",
    "{\"title\":\"Star Wars: Episode V - The Empire Strikes Back\",\"year\":1980,\"rated\":\"PG\",\"runtime\":124,\"countries\":[\"USA\"],\"genres\":[\"Action\",\"Adventure\",\"Fantasy\"],\"director\":\"Irvin Kershner\",\"writers\":[\"Leigh Brackett\",\"Lawrence Kasdan\",\"George Lucas\"],\"actors\":[\"Mark Hamill\",\"Harrison Ford\",\"Carrie Fisher\",\"Billy Dee Williams\"],\"plot\":\"After the rebels have been brutally overpowered by the Empire on their newly established base, Luke Skywalker takes advanced Jedi training with Master Yoda, while his friends are pursued by Darth Vader as part of his plan to capture Luke.\",\"poster\":\"http://ia.media-imdb.com/images/M/MV5BMjE2MzQwMTgxN15BMl5BanBnXkFtZTcwMDQzNjk2OQ@@._V1_SX300.jpg\",\"imdb\":{\"id\":\"tt0080684\",\"rating\":8.8,\"votes\":739949},\"tomato\":{\"meter\":94,\"image\":\"certified\",\"rating\":8.9,\"reviews\":87,\"fresh\":82,\"consensus\":\"Dark, sinister, but ultimately even more involving than A New Hope, The Empire Strikes Back defies viewer expectations and takes the series to heightened emotional levels.\",\"userMeter\":97,\"userRating\":4.1,\"userReviews\":1045537},\"metacritic\":79,\"awards\":{\"wins\":15,\"nominations\":17,\"text\":\"Won 1 Oscar. Another 15 wins \\u0026 17 nominations.\"},\"type\":\"movie\"},\n",
    "{\"title\":\"Star Wars: Episode VI - Return of the Jedi\",\"year\":1983,\"rated\":\"PG\",\"runtime\":131,\"countries\":[\"USA\"],\"genres\":[\"Action\",\"Adventure\",\"Fantasy\"],\"director\":\"Richard Marquand\",\"writers\":[\"Lawrence Kasdan\",\"George Lucas\",\"George Lucas\"],\"actors\":[\"Mark Hamill\",\"Harrison Ford\",\"Carrie Fisher\",\"Billy Dee Williams\"],\"plot\":\"After rescuing Han Solo from the palace of Jabba the Hutt, the rebels attempt to destroy the second Death Star, while Luke struggles to make Vader return from the dark side of the Force.\",\"poster\":\"http://ia.media-imdb.com/images/M/MV5BMTQ0MzI1NjYwOF5BMl5BanBnXkFtZTgwODU3NDU2MTE@._V1._CR93,97,1209,1861_SX89_AL_.jpg_V1_SX300.jpg\",\"imdb\":{\"id\":\"tt0086190\",\"rating\":8.4,\"votes\":623252},\"tomato\":{\"meter\":80,\"image\":\"certified\",\"rating\":7.2,\"reviews\":84,\"fresh\":67,\"consensus\":\"Though failing to reach the cinematic heights of its predecessors, Return of the Jedi remains an entertaining sci-fi adventure and a fitting end to the classic trilogy.\",\"userMeter\":94,\"userRating\":4,\"userReviews\":1003937},\"metacritic\":52,\"awards\":{\"wins\":15,\"nominations\":15,\"text\":\"Nominated for 4 Oscars. Another 15 wins \\u0026 15 nominations.\"},\"type\":\"movie\"},\n",
    "{\"title\":\"Star Wars: Episode III - Revenge of the Sith\",\"year\":2005,\"rated\":\"PG-13\",\"runtime\":140,\"countries\":[\"USA\"],\"genres\":[\"Action\",\"Adventure\",\"Fantasy\"],\"director\":\"George Lucas\",\"writers\":[\"George Lucas\"],\"actors\":[\"Ewan McGregor\",\"Natalie Portman\",\"Hayden Christensen\",\"Ian McDiarmid\"],\"plot\":\"Three years after the onset of the Clone Wars; the noble Jedi Knights are spread out across the galaxy leading a massive clone army in the war against the Separatists. After Chancellor ...\",\"poster\":\"http://ia.media-imdb.com/images/M/MV5BNTc4MTc3NTQ5OF5BMl5BanBnXkFtZTcwOTg0NjI4NA@@._V1_SX300.jpg\",\"imdb\":{\"id\":\"tt0121766\",\"rating\":7.6,\"votes\":483613},\"tomato\":{\"meter\":79,\"image\":\"certified\",\"rating\":7.3,\"reviews\":282,\"fresh\":222,\"consensus\":\"With Episode III: Revenge of the Sith, George Lucas brings his second Star Wars trilogy to a suitably thrilling and often poignant -- if still a bit uneven -- conclusion.\",\"userMeter\":65,\"userRating\":3.1,\"userReviews\":33674396},\"metacritic\":68,\"awards\":{\"wins\":21,\"nominations\":49,\"text\":\"Nominated for 1 Oscar. Another 21 wins \\u0026 49 nominations.\"},\"type\":\"movie\"},\n",
    "{\"title\":\"Star Trek\",\"year\":2009,\"rated\":\"PG-13\",\"runtime\":127,\"countries\":[\"USA\",\"Germany\"],\"genres\":[\"Action\",\"Adventure\",\"Sci-Fi\"],\"director\":\"J.J. Abrams\",\"writers\":[\"Roberto Orci\",\"Alex Kurtzman\",\"Gene Roddenberry\"],\"actors\":[\"Chris Pine\",\"Zachary Quinto\",\"Leonard Nimoy\",\"Eric Bana\"],\"plot\":\"The brash James T. Kirk tries to live up to his father's legacy with Mr. Spock keeping him in check as a vengeful, time-traveling Romulan creates black holes to destroy the Federation one planet at a time.\",\"poster\":\"http://ia.media-imdb.com/images/M/MV5BMjE5NDQ5OTE4Ml5BMl5BanBnXkFtZTcwOTE3NDIzMw@@._V1_SX300.jpg\",\"imdb\":{\"id\":\"tt0796366\",\"rating\":8,\"votes\":483229},\"tomato\":{\"meter\":95,\"image\":\"certified\",\"rating\":8.2,\"reviews\":329,\"fresh\":312,\"consensus\":\"Star Trek reignites a classic franchise with action, humor, a strong story, and brilliant visuals, and will please traditional Trekkies and new fans alike.\",\"userMeter\":91,\"userRating\":4.1,\"userReviews\":743375},\"metacritic\":82,\"awards\":{\"wins\":22,\"nominations\":77,\"text\":\"Won 1 Oscar. Another 22 wins \\u0026 77 nominations.\"},\"type\":\"movie\"},\n",
    "{\"title\":\"Star Wars: Episode II - Attack of the Clones\",\"year\":2002,\"rated\":\"PG\",\"runtime\":142,\"countries\":[\"USA\"],\"genres\":[\"Action\",\"Adventure\",\"Fantasy\"],\"director\":\"George Lucas\",\"writers\":[\"George Lucas\",\"Jonathan Hales\",\"George Lucas\"],\"actors\":[\"Ewan McGregor\",\"Natalie Portman\",\"Hayden Christensen\",\"Christopher Lee\"],\"plot\":\"Ten years after initially meeting, Anakin Skywalker shares a forbidden romance with Padmé, while Obi-Wan investigates an assassination attempt on the Senator and discovers a secret clone army crafted for the Jedi.\",\"poster\":\"http://ia.media-imdb.com/images/M/MV5BMTY5MjI5NTIwNl5BMl5BanBnXkFtZTYwMTM1Njg2._V1_SX300.jpg\",\"imdb\":{\"id\":\"tt0121765\",\"rating\":6.7,\"votes\":425728},\"tomato\":{\"meter\":66,\"image\":\"fresh\",\"rating\":6.7,\"reviews\":242,\"fresh\":159,\"consensus\":\"Star Wars Episode II: Attack of the Clones benefits from an increased emphasis on thrilling action, although they're once again undercut by ponderous plot points and underdeveloped characters.\",\"userMeter\":58,\"userRating\":3.3,\"userReviews\":844634},\"metacritic\":54,\"awards\":{\"wins\":13,\"nominations\":47,\"text\":\"Nominated for 1 Oscar. Another 13 wins \\u0026 47 nominations.\"},\"type\":\"movie\"},\n",
    "{\"title\":\"Star Trek Into Darkness\",\"year\":2013,\"rated\":\"PG-13\",\"runtime\":132,\"countries\":[\"USA\"],\"genres\":[\"Action\",\"Adventure\",\"Sci-Fi\"],\"director\":\"J.J. Abrams\",\"writers\":[\"Roberto Orci\",\"Alex Kurtzman\",\"Damon Lindelof\",\"Gene Roddenberry\"],\"actors\":[\"Chris Pine\",\"Zachary Quinto\",\"Zoe Saldana\",\"Karl Urban\"],\"plot\":\"After the crew of the Enterprise find an unstoppable force of terror from within their own organization, Captain Kirk leads a manhunt to a war-zone world to capture a one-man weapon of mass destruction.\",\"poster\":\"http://ia.media-imdb.com/images/M/MV5BMTk2NzczOTgxNF5BMl5BanBnXkFtZTcwODQ5ODczOQ@@._V1_SX300.jpg\",\"imdb\":{\"id\":\"tt1408101\",\"rating\":7.8,\"votes\":370638},\"tomato\":{\"meter\":87,\"image\":\"certified\",\"rating\":7.6,\"reviews\":250,\"fresh\":217,\"consensus\":\"Visually spectacular and suitably action packed, Star Trek Into Darkness is a rock-solid installment in the venerable sci-fi franchise, even if it's not as fresh as its predecessor.\",\"userMeter\":90,\"userRating\":4.2,\"userReviews\":309531},\"metacritic\":72,\"awards\":{\"wins\":6,\"nominations\":44,\"text\":\"Nominated for 1 Oscar. Another 6 wins \\u0026 44 nominations.\"},\"type\":\"movie\"},\n",
    "{\"title\":\"Star Trek: First Contact\",\"year\":1996,\"rated\":\"PG-13\",\"runtime\":111,\"countries\":[\"USA\"],\"genres\":[\"Action\",\"Adventure\",\"Sci-Fi\"],\"director\":\"Jonathan Frakes\",\"writers\":[\"Gene Roddenberry\",\"Rick Berman\",\"Brannon Braga\",\"Ronald D. Moore\",\"Brannon Braga\",\"Ronald D. Moore\"],\"actors\":[\"Patrick Stewart\",\"Jonathan Frakes\",\"Brent Spiner\",\"LeVar Burton\"],\"plot\":\"The Borg go back in time intent on preventing Earth's first contact with an alien species. Captain Picard and his crew pursue them to ensure that Zefram Cochrane makes his maiden flight reaching warp speed.\",\"poster\":\"http://ia.media-imdb.com/images/M/MV5BMTg4OTYwODY4MF5BMl5BanBnXkFtZTgwNTg2NjIyMDE@._V1_SX300.jpg\",\"imdb\":{\"id\":\"tt0117731\",\"rating\":7.6,\"votes\":94153},\"tomato\":{\"meter\":93,\"image\":\"certified\",\"rating\":7.4,\"reviews\":55,\"fresh\":51,\"consensus\":\"While fans of the series will surely appreciate it, First Contact is exciting, engaging, and visually appealing enough to entertain Star Trek novices.\",\"userMeter\":89,\"userRating\":3.6,\"userReviews\":99646},\"metacritic\":71,\"awards\":{\"wins\":8,\"nominations\":19,\"text\":\"Nominated for 1 Oscar. Another 8 wins \\u0026 19 nominations.\"},\"type\":\"movie\"},\n",
    "{\"title\":\"Star Trek II: The Wrath of Khan\",\"year\":1982,\"rated\":\"PG\",\"runtime\":113,\"countries\":[\"USA\"],\"genres\":[\"Action\",\"Adventure\",\"Drama\"],\"director\":\"Nicholas Meyer\",\"writers\":[\"Gene Roddenberry\",\"Harve Bennett\",\"Jack B. Sowards\",\"Jack B. Sowards\"],\"actors\":[\"William Shatner\",\"Leonard Nimoy\",\"DeForest Kelley\",\"James Doohan\"],\"plot\":\"With the assistance of the Enterprise crew, Admiral Kirk must stop an old nemesis, Khan Noonien Singh, from using the life-generating Genesis Device as the ultimate weapon.\",\"poster\":\"http://ia.media-imdb.com/images/M/MV5BMTcwNjc5NjA4N15BMl5BanBnXkFtZTcwNDk5MzI4OA@@._V1_SX300.jpg\",\"imdb\":{\"id\":\"tt0084726\",\"rating\":7.7,\"votes\":86687},\"tomato\":{\"meter\":88,\"image\":\"certified\",\"rating\":8,\"reviews\":49,\"fresh\":43,\"consensus\":\"Considered by many fans to be the best of the Star Trek movies, Khan features a strong plot, increased tension, and a sharp supporting performance from Ricardo Montalban.\",\"userMeter\":90,\"userRating\":3.8,\"userReviews\":84279},\"metacritic\":71,\"awards\":{\"wins\":2,\"nominations\":9,\"text\":\"2 wins \\u0026 9 nominations.\"},\"type\":\"movie\"},\n",
    "{\"title\":\"Dr. Strangelove or: How I Learned to Stop Worrying and Love the Bomb\",\"year\":1964,\"rated\":\"PG\",\"runtime\":95,\"countries\":[\"USA\",\"UK\"],\"genres\":[\"Comedy\"],\"director\":\"Stanley Kubrick\",\"writers\":[\"Stanley Kubrick\",\"Terry Southern\",\"Peter George\",\"Peter George\"],\"actors\":[\"Peter Sellers\",\"George C. Scott\",\"Sterling Hayden\",\"Keenan Wynn\"],\"plot\":\"An insane general triggers a path to nuclear holocaust that a war room full of politicians and generals frantically try to stop.\",\"poster\":\"http://ia.media-imdb.com/images/M/MV5BMTU2ODM2NTkxNF5BMl5BanBnXkFtZTcwOTMwMzU3Mg@@._V1_SX300.jpg\",\"imdb\":{\"id\":\"tt0057012\",\"rating\":8.5,\"votes\":323857},\"tomato\":{\"meter\":99,\"image\":\"certified\",\"rating\":9,\"reviews\":68,\"fresh\":67,\"consensus\":\"Stanley Kubrick's brilliant Cold War satire remains as funny and razor-sharp today as it was in 1964.\",\"userMeter\":94,\"userRating\":4.2,\"userReviews\":206480},\"metacritic\":96,\"awards\":{\"wins\":13,\"nominations\":6,\"text\":\"Nominated for 4 Oscars. Another 13 wins \\u0026 6 nominations.\"},\"type\":\"movie\"},\n",
    "{\"title\":\"Love Actually\",\"year\":2003,\"rated\":\"R\",\"runtime\":135,\"countries\":[\"UK\",\"USA\",\"France\"],\"genres\":[\"Comedy\",\"Drama\",\"Romance\"],\"director\":\"Richard Curtis\",\"writers\":[\"Richard Curtis\"],\"actors\":[\"Bill Nighy\",\"Gregor Fisher\",\"Rory MacGregor\",\"Colin Firth\"],\"plot\":\"Follows the lives of eight very different couples in dealing with their love lives in various loosely interrelated tales all set during a frantic month before Christmas in London, England.\",\"poster\":\"http://ia.media-imdb.com/images/M/MV5BMTY4NjQ5NDc0Nl5BMl5BanBnXkFtZTYwNjk5NDM3._V1_SX300.jpg\",\"imdb\":{\"id\":\"tt0314331\",\"rating\":7.7,\"votes\":306036},\"tomato\":{\"meter\":63,\"image\":\"fresh\",\"rating\":6.4,\"reviews\":192,\"fresh\":120,\"consensus\":\"A sugary tale overstuffed with too many stories. Still, the cast charms.\",\"userMeter\":72,\"userRating\":3.1,\"userReviews\":31625241},\"metacritic\":55,\"awards\":{\"wins\":10,\"nominations\":24,\"text\":\"Nominated for 2 Golden Globes. Another 10 wins \\u0026 24 nominations.\"},\"type\":\"movie\"},\n",
    "{\"title\":\"Shakespeare in Love\",\"year\":1998,\"rated\":\"R\",\"runtime\":123,\"countries\":[\"USA\"],\"genres\":[\"Comedy\",\"Drama\",\"Romance\"],\"director\":\"John Madden\",\"writers\":[\"Marc Norman\",\"Tom Stoppard\"],\"actors\":[\"Geoffrey Rush\",\"Tom Wilkinson\",\"Steven O'Donnell\",\"Tim McMullan\"],\"plot\":\"A young Shakespeare, out of ideas and short of cash, meets his ideal woman and is inspired to write one of his most famous plays.\",\"poster\":\"http://ia.media-imdb.com/images/M/MV5BMTc0ODI2NDk2OV5BMl5BanBnXkFtZTcwNTIzNDQ4OQ@@._V1_SX300.jpg\",\"imdb\":{\"id\":\"tt0138097\",\"rating\":7.2,\"votes\":167371},\"tomato\":{\"meter\":92,\"image\":\"certified\",\"rating\":8.3,\"reviews\":125,\"fresh\":115,\"consensus\":\"Endlessly witty, visually rapturous, and sweetly romantic, Shakespeare in Love is a delightful romantic comedy that succeeds on nearly every level.\",\"userMeter\":80,\"userRating\":3.4,\"userReviews\":225871},\"metacritic\":87,\"awards\":{\"wins\":55,\"nominations\":85,\"text\":\"Won 7 Oscars. Another 55 wins \\u0026 85 nominations.\"},\"type\":\"movie\"},\n",
    "{\"title\":\"I Love You, Man\",\"year\":2009,\"rated\":\"R\",\"runtime\":105,\"countries\":[\"USA\"],\"genres\":[\"Comedy\",\"Romance\"],\"director\":\"John Hamburg\",\"writers\":[\"John Hamburg\",\"Larry Levin\",\"Larry Levin\"],\"actors\":[\"Paul Rudd\",\"Rashida Jones\",\"Sarah Burns\",\"Greg Levine\"],\"plot\":\"Friendless Peter Klaven goes on a series of man-dates to find a Best Man for his wedding. But, when his insta-bond with his new B.F.F. puts a strain on his relationship with his fiancée, can the trio learn to live happily ever after?\",\"poster\":\"http://ia.media-imdb.com/images/M/MV5BMTU4MjI5NTEyNV5BMl5BanBnXkFtZTcwNjQ1NTMzMg@@._V1_SX300.jpg\",\"imdb\":{\"id\":\"tt1155056\",\"rating\":7.1,\"votes\":160540},\"tomato\":{\"meter\":84,\"image\":\"certified\",\"rating\":6.9,\"reviews\":200,\"fresh\":167,\"consensus\":\"I Love You, Man makes the most of its simple premise due to the heartfelt and hilarious performances of Paul Rudd and Jason Segel.\",\"userMeter\":74,\"userRating\":2.7,\"userReviews\":1550369},\"metacritic\":70,\"awards\":{\"wins\":1,\"nominations\":8,\"text\":\"1 win \\u0026 8 nominations.\"},\"type\":\"movie\"},\n",
    "{\"title\":\"Love \\u0026 Other Drugs\",\"year\":2010,\"rated\":\"R\",\"runtime\":112,\"countries\":[\"USA\"],\"genres\":[\"Comedy\",\"Drama\",\"Romance\"],\"director\":\"Edward Zwick\",\"writers\":[\"Charles Randolph\",\"Edward Zwick\",\"Marshall Herskovitz\",\"Jamie Reidy\"],\"actors\":[\"Jake Gyllenhaal\",\"Anne Hathaway\",\"Oliver Platt\",\"Hank Azaria\"],\"plot\":\"A young woman suffering from Parkinson's befriends a drug rep working for Pfizer in 1990s Pittsburgh.\",\"poster\":\"http://ia.media-imdb.com/images/M/MV5BMTgxOTczODEyMF5BMl5BanBnXkFtZTcwMDc0NDY4Mw@@._V1_SX300.jpg\",\"imdb\":{\"id\":\"tt0758752\",\"rating\":6.7,\"votes\":134363},\"tomato\":{\"meter\":49,\"image\":\"rotten\",\"rating\":5.8,\"reviews\":160,\"fresh\":78,\"consensus\":\"It's a pleasure to see Hollywood produce a romance this refreshingly adult, but Love and Other Drugs struggles to find a balance between its disparate plot elements.\",\"userMeter\":53,\"userRating\":3.3,\"userReviews\":73737},\"metacritic\":55,\"awards\":{\"wins\":1,\"nominations\":5,\"text\":\"Nominated for 2 Golden Globes. Another 1 win \\u0026 5 nominations.\"},\"type\":\"movie\"},\n",
    "{\"title\":\"Punch-Drunk Love\",\"year\":2002,\"rated\":\"R\",\"runtime\":95,\"countries\":[\"USA\"],\"genres\":[\"Comedy\",\"Drama\",\"Romance\"],\"director\":\"Paul Thomas Anderson\",\"writers\":[\"Paul Thomas Anderson\"],\"actors\":[\"Adam Sandler\",\"Jason Andrews\",\"Don McManus\",\"Emily Watson\"],\"plot\":\"A psychologically troubled novelty supplier is nudged towards a romance with an English woman, all the while being extorted by a phone-sex line run by a crooked mattress salesman, and purchasing stunning amounts of pudding.\",\"poster\":\"http://ia.media-imdb.com/images/M/MV5BOTcwMDMxMjg2NF5BMl5BanBnXkFtZTYwNzg0MDc3._V1_SX300.jpg\",\"imdb\":{\"id\":\"tt0272338\",\"rating\":7.3,\"votes\":104292},\"tomato\":{\"meter\":79,\"image\":\"certified\",\"rating\":7.4,\"reviews\":184,\"fresh\":145,\"consensus\":\"Odd, touching, and unique, Punch-Drunk Love is also delightfully funny, utilizing Adam Sandler's comic persona to explore the life of a lonely guy who finds love.\",\"userMeter\":77,\"userRating\":3.3,\"userReviews\":138756},\"metacritic\":78,\"awards\":{\"wins\":14,\"nominations\":28,\"text\":\"Nominated for 1 Golden Globe. Another 14 wins \\u0026 28 nominations.\"},\"type\":\"movie\"},\n",
    "{\"title\":\"From Paris with Love\",\"year\":2010,\"rated\":\"R\",\"runtime\":92,\"countries\":[\"France\"],\"genres\":[\"Action\",\"Thriller\"],\"director\":\"Pierre Morel\",\"writers\":[\"Adi Hasak\",\"Luc Besson\"],\"actors\":[\"John Travolta\",\"Jonathan Rhys Meyers\",\"Kasia Smutniak\",\"Richard Durden\"],\"plot\":\"In Paris, a young employee in the office of the US Ambassador hooks up with an American spy looking to stop a terrorist attack in the city.\",\"poster\":\"http://ia.media-imdb.com/images/M/MV5BNDUyMzExOTAyM15BMl5BanBnXkFtZTcwMTU0NjAyMw@@._V1_SX300.jpg\",\"imdb\":{\"id\":\"tt1179034\",\"rating\":6.5,\"votes\":94446},\"tomato\":{\"meter\":37,\"image\":\"rotten\",\"rating\":4.7,\"reviews\":154,\"fresh\":57,\"consensus\":\"Thought not without its charms -- chief among them John Travolta's endearingly over-the-top performance -- From Paris with Love is too muddled and disjointed to satisfy.\",\"userMeter\":54,\"userRating\":3.3,\"userReviews\":155501},\"metacritic\":42,\"awards\":{\"wins\":0,\"nominations\":0,\"text\":\"\"},\"type\":\"movie\"},\n",
    "{\"title\":\"From Russia with Love\",\"year\":1963,\"rated\":\"APPROVED\",\"runtime\":115,\"countries\":[\"UK\",\"USA\"],\"genres\":[\"Action\",\"Adventure\",\"Thriller\"],\"director\":\"Terence Young\",\"writers\":[\"Richard Maibaum\",\"Johanna Harwood\"],\"actors\":[\"Sean Connery\",\"Daniela Bianchi\",\"Pedro Armendáriz\",\"Lotte Lenya\"],\"plot\":\"James Bond willingly falls into an assassination ploy involving a naive Russian beauty in order to retrieve a Soviet encryption device that was stolen by SPECTRE.\",\"poster\":\"http://ia.media-imdb.com/images/M/MV5BMTQxNTIzMTExN15BMl5BanBnXkFtZTcwODI4MDgzNA@@._V1_SX300.jpg\",\"imdb\":{\"id\":\"tt0057076\",\"rating\":7.5,\"votes\":84828},\"awards\":{\"wins\":2,\"nominations\":5,\"text\":\"Nominated for 1 Golden Globe. Another 2 wins \\u0026 5 nominations.\"},\"type\":\"movie\"},\n",
    "{\"title\":\"I Love You Phillip Morris\",\"year\":2009,\"rated\":\"R\",\"runtime\":98,\"countries\":[\"France\",\"USA\"],\"genres\":[\"Biography\",\"Comedy\",\"Crime\"],\"director\":\"Glenn Ficarra, John Requa\",\"writers\":[\"John Requa\",\"Glenn Ficarra\",\"Steve McVicker\"],\"actors\":[\"Jim Carrey\",\"Ewan McGregor\",\"Leslie Mann\",\"Rodrigo Santoro\"],\"plot\":\"A cop turns con man once he comes out of the closet. Once imprisoned, he meets the second love of his life, whom he'll stop at nothing to be with.\",\"poster\":\"http://ia.media-imdb.com/images/M/MV5BNDkzMjkwNjc5NV5BMl5BanBnXkFtZTcwNzEyOTk5Mw@@._V1_SX300.jpg\",\"imdb\":{\"id\":\"tt1045772\",\"rating\":6.7,\"votes\":73578},\"tomato\":{\"meter\":72,\"image\":\"certified\",\"rating\":6.6,\"reviews\":152,\"fresh\":109,\"consensus\":\"This fact-based romantic comedy has its flaws, but they're mostly overcome by its consistently sweet, funny tone and one of the best performances of Jim Carrey's career.\",\"userMeter\":61,\"userRating\":3.3,\"userReviews\":88181},\"metacritic\":65,\"awards\":{\"wins\":5,\"nominations\":8,\"text\":\"5 wins \\u0026 8 nominations.\"},\"type\":\"movie\"},\n",
    "{\"title\":\"2001: A Space Odyssey\",\"year\":1968,\"rated\":\"G\",\"runtime\":149,\"countries\":[\"USA\",\"UK\"],\"genres\":[\"Mystery\",\"Sci-Fi\"],\"director\":\"Stanley Kubrick\",\"writers\":[\"Stanley Kubrick\",\"Arthur C. Clarke\"],\"actors\":[\"Keir Dullea\",\"Gary Lockwood\",\"William Sylvester\",\"Daniel Richter\"],\"plot\":\"Humanity finds a mysterious, obviously artificial object buried beneath the Lunar surface and, with the intelligent computer H.A.L. 9000, sets off on a quest.\",\"poster\":\"http://ia.media-imdb.com/images/M/MV5BNDYyMDgxNDQ5Nl5BMl5BanBnXkFtZTcwMjc1ODg3OA@@._V1_SX300.jpg\",\"imdb\":{\"id\":\"tt0062622\",\"rating\":8.3,\"votes\":396824},\"tomato\":{\"meter\":96,\"image\":\"certified\",\"rating\":9.2,\"reviews\":70,\"fresh\":67,\"consensus\":\"One of the most influential of all sci-fi films -- and one of the most controversial -- Stanley Kubrick's 2001 is a delicate, poetic meditation on the ingenuity -- and folly -- of mankind.\",\"userMeter\":89,\"userRating\":3.8,\"userReviews\":294447},\"metacritic\":86,\"awards\":{\"wins\":13,\"nominations\":7,\"text\":\"Won 1 Oscar. Another 13 wins \\u0026 7 nominations.\"},\"type\":\"movie\"},\n",
    "{\"title\":\"Office Space\",\"year\":1999,\"rated\":\"R\",\"runtime\":89,\"countries\":[\"USA\"],\"genres\":[\"Comedy\"],\"director\":\"Mike Judge\",\"writers\":[\"Mike Judge\",\"Mike Judge\"],\"actors\":[\"Ron Livingston\",\"Jennifer Aniston\",\"David Herman\",\"Ajay Naidu\"],\"plot\":\"Three company workers who hate their jobs decide to rebel against their greedy boss.\",\"poster\":\"http://ia.media-imdb.com/images/M/MV5BOTA5MzQ3MzI1NV5BMl5BanBnXkFtZTgwNTcxNTYxMTE@._V1_SX300.jpg\",\"imdb\":{\"id\":\"tt0151804\",\"rating\":7.8,\"votes\":192080},\"tomato\":{\"meter\":79,\"image\":\"certified\",\"rating\":6.8,\"reviews\":95,\"fresh\":75,\"consensus\":\"Mike Judge lampoons the office grind with its inspired mix of sharp dialogue and witty one-liners.\",\"userMeter\":93,\"userRating\":4,\"userReviews\":324362},\"metacritic\":68,\"awards\":{\"wins\":0,\"nominations\":2,\"text\":\"2 nominations.\"},\"type\":\"movie\"},\n",
    "{\"title\":\"Zathura: A Space Adventure\",\"year\":2005,\"rated\":\"PG\",\"runtime\":101,\"countries\":[\"USA\"],\"genres\":[\"Action\",\"Adventure\",\"Comedy\"],\"director\":\"Jon Favreau\",\"writers\":[\"Chris Van Allsburg\",\"David Koepp\",\"John Kamps\"],\"actors\":[\"Jonah Bobo\",\"Josh Hutcherson\",\"Dax Shepard\",\"Kristen Stewart\"],\"plot\":\"Two young brothers are drawn into an intergalactic adventure when their house is hurled through the depths of space by the magical board game they are playing.\",\"poster\":\"http://ia.media-imdb.com/images/M/MV5BMjEyOTQ2ODg4OV5BMl5BanBnXkFtZTcwMjk2ODUzMQ@@._V1_SX300.jpg\",\"imdb\":{\"id\":\"tt0406375\",\"rating\":6.1,\"votes\":62971},\"tomato\":{\"meter\":75,\"image\":\"certified\",\"rating\":6.6,\"reviews\":158,\"fresh\":119,\"consensus\":\"Dazzling special effects for the kids + well-crafted storytelling for the 'rents = cinematic satisfaction for the whole family.\",\"userMeter\":51,\"userRating\":3,\"userReviews\":280429},\"metacritic\":67,\"awards\":{\"wins\":2,\"nominations\":3,\"text\":\"2 wins \\u0026 3 nominations.\"},\"type\":\"movie\"},\n",
    "{\"title\":\"Space Cowboys\",\"year\":2000,\"rated\":\"PG-13\",\"runtime\":130,\"countries\":[\"USA\",\"Australia\"],\"genres\":[\"Action\",\"Adventure\",\"Thriller\"],\"director\":\"Clint Eastwood\",\"writers\":[\"Ken Kaufman\",\"Howard Klausner\"],\"actors\":[\"Clint Eastwood\",\"Tommy Lee Jones\",\"Donald Sutherland\",\"James Garner\"],\"plot\":\"When a retired engineer is called upon to rescue a failing satellite, he insists that his equally old teammates accompany him into space.\",\"poster\":\"http://ia.media-imdb.com/images/M/MV5BMTk4NzAwOTkwMF5BMl5BanBnXkFtZTYwMDM3MTM3._V1_SX300.jpg\",\"imdb\":{\"id\":\"tt0186566\",\"rating\":6.4,\"votes\":57735},\"tomato\":{\"meter\":78,\"image\":\"certified\",\"rating\":6.7,\"reviews\":119,\"fresh\":93,\"consensus\":\"While the plot is overly cliched, the suberb acting by the stars (especially the tense interactions between Clint Eastwood and Tommy Lee Jones) and the spectacular special effects make this a movie worth seeing.\",\"userMeter\":53,\"userRating\":3,\"userReviews\":72556},\"metacritic\":73,\"awards\":{\"wins\":4,\"nominations\":6,\"text\":\"Nominated for 1 Oscar. Another 4 wins \\u0026 6 nominations.\"},\"type\":\"movie\"},\n",
    "{\"title\":\"Lost in Space\",\"year\":1998,\"rated\":\"PG-13\",\"runtime\":130,\"countries\":[\"USA\"],\"genres\":[\"Action\",\"Adventure\",\"Family\"],\"director\":\"Stephen Hopkins\",\"writers\":[\"Irwin Allen\",\"Akiva Goldsman\"],\"actors\":[\"William Hurt\",\"Mimi Rogers\",\"Heather Graham\",\"Lacey Chabert\"],\"plot\":\"The Robinson family was going into space to fight for a chance for humanity. Now they are fighting to live long enough to find a way home.\",\"poster\":\"http://ia.media-imdb.com/images/M/MV5BMTkwNzEyNTgyN15BMl5BanBnXkFtZTcwODk4NTU0Mg@@._V1_SX300.jpg\",\"imdb\":{\"id\":\"tt0120738\",\"rating\":5.1,\"votes\":56757},\"tomato\":{\"meter\":27,\"image\":\"rotten\",\"rating\":4.7,\"reviews\":84,\"fresh\":23,\"consensus\":\"Clumsily directed and missing most of the TV series' campy charm, Lost in Space sadly lives down to its title.\",\"userMeter\":24,\"userRating\":2.5,\"userReviews\":173585},\"metacritic\":42,\"awards\":{\"wins\":1,\"nominations\":13,\"text\":\"1 win \\u0026 13 nominations.\"},\"type\":\"movie\"},\n",
    "{\"title\":\"Plan 9 from Outer Space\",\"year\":1959,\"rated\":\"UNRATED\",\"runtime\":79,\"countries\":[\"USA\"],\"genres\":[\"Horror\",\"Sci-Fi\"],\"director\":\"Edward D. Wood Jr.\",\"writers\":[\"Edward D. Wood Jr.\"],\"actors\":[\"Gregory Walcott\",\"Mona McKinnon\",\"Duke Moore\",\"Tom Keene\"],\"plot\":\"Aliens resurrect dead humans as zombies and vampires to stop humanity from creating the Solaranite (a sort of sun-driven bomb).\",\"poster\":\"http://ia.media-imdb.com/images/M/MV5BMzUzMzA0NDE3MF5BMl5BanBnXkFtZTgwMzg1Mjc1MDE@._V1_SX300.jpg\",\"imdb\":{\"id\":\"tt0052077\",\"rating\":4,\"votes\":29171},\"awards\":{\"wins\":0,\"nominations\":0,\"text\":\"\"},\"type\":\"movie\"},\n",
    "{\"title\":\"Muppets from Space\",\"year\":1999,\"rated\":\"G\",\"runtime\":87,\"countries\":[\"USA\"],\"genres\":[\"Adventure\",\"Comedy\",\"Family\"],\"director\":\"Tim Hill\",\"writers\":[\"Jerry Juhl\",\"Joey Mazzarino\",\"Ken Kaufman\"],\"actors\":[\"Dave Goelz\",\"Steve Whitmire\",\"Bill Barretta\",\"Jerry Nelson\"],\"plot\":\"Gonzo is contacted by his alien family through his breakfast cereal. He is kidnapped and it's up to Kermit and the gang to rescue Gonzo and help reunite him with his long-lost family.\",\"poster\":\"http://ia.media-imdb.com/images/M/MV5BMTgwNDE0NDM1M15BMl5BanBnXkFtZTcwNDg4MzkxMQ@@._V1_SX300.jpg\",\"imdb\":{\"id\":\"tt0158811\",\"rating\":6.2,\"votes\":14105},\"awards\":{\"wins\":0,\"nominations\":1,\"text\":\"1 nomination.\"},\"type\":\"movie\"},\n",
    "{\"title\":\"2001: A Space Travesty\",\"year\":2000,\"rated\":\"R\",\"runtime\":99,\"countries\":[\"Canada\",\"Germany\"],\"genres\":[\"Comedy\",\"Sci-Fi\"],\"director\":\"Allan A. Goldstein\",\"writers\":[\"Vince Di Clemente\",\"Alan Shearman\"],\"actors\":[\"Leslie Nielsen\",\"Ophélie Winter\",\"Ezio Greggio\",\"Peter Egan\"],\"plot\":\"Leslie Nielsen once again plays a bumbling detective in the vein of the 'Naked Gun' movies, but this time as Marshall Richard 'Dick' Dix. When odd reports are received through official ...\",\"poster\":\"http://ia.media-imdb.com/images/M/MV5BMTA5NTk1NTc3MjJeQTJeQWpwZ15BbWU3MDkxNTMyMjE@._V1_SX300.jpg\",\"imdb\":{\"id\":\"tt0157262\",\"rating\":3.3,\"votes\":9321},\"awards\":{\"wins\":0,\"nominations\":0,\"text\":\"\"},\"type\":\"movie\"},\n",
    "{\"title\":\"Space Chimps\",\"year\":2008,\"rated\":\"G\",\"runtime\":81,\"countries\":[\"USA\"],\"genres\":[\"Animation\",\"Adventure\",\"Comedy\"],\"director\":\"Kirk De Micco\",\"writers\":[\"Kirk De Micco\",\"Robert Moreland\",\"Kirk De Micco\",\"Jason Mayland\"],\"actors\":[\"Andy Samberg\",\"Cheryl Hines\",\"Jeff Daniels\",\"Patrick Warburton\"],\"plot\":\"Ham III, the grandson of the first chimp astronaut, is blasted off into space by an opportunity-seeking senator. Soon, the fun-loving chimp has to get serious about the mission at hand; ...\",\"poster\":\"http://ia.media-imdb.com/images/M/MV5BNDU0MDY1OTQzOV5BMl5BanBnXkFtZTcwNzQ3ODI3MQ@@._V1_SX300.jpg\",\"imdb\":{\"id\":\"tt0482603\",\"rating\":4.5,\"votes\":8561},\"tomato\":{\"meter\":34,\"image\":\"rotten\",\"rating\":4.6,\"reviews\":91,\"fresh\":31,\"consensus\":\"Space Chimps' cheap animation and overabundance of monkey puns feels especially dated in a post-Wall-E world.\",\"userMeter\":32,\"userRating\":2.8,\"userReviews\":124232},\"metacritic\":36,\"awards\":{\"wins\":0,\"nominations\":1,\"text\":\"1 nomination.\"},\"type\":\"movie\"},\n",
    "{\"title\":\"The Adventures of Tintin\",\"year\":2011,\"rated\":\"PG\",\"runtime\":107,\"countries\":[\"USA\",\"New Zealand\"],\"genres\":[\"Animation\",\"Action\",\"Adventure\"],\"director\":\"Steven Spielberg\",\"writers\":[\"Steven Moffat\",\"Edgar Wright\",\"Joe Cornish\",\"Hergé\"],\"actors\":[\"Jamie Bell\",\"Andy Serkis\",\"Daniel Craig\",\"Nick Frost\"],\"plot\":\"Intrepid reporter Tintin and Captain Haddock set off on a treasure hunt for a sunken ship commanded by Haddock's ancestor.\",\"poster\":\"http://ia.media-imdb.com/images/M/MV5BNDE5MDExNTQ1OF5BMl5BanBnXkFtZTcwMDIxMTM5Ng@@._V1_SX300.jpg\",\"imdb\":{\"id\":\"tt0983193\",\"rating\":7.4,\"votes\":169875},\"tomato\":{\"meter\":75,\"image\":\"certified\",\"rating\":7,\"reviews\":205,\"fresh\":153,\"consensus\":\"Drawing deep from the classic Raiders of the Lost Ark playbook, Steven Spielberg has crafted another spirited, thrilling adventure in the form of Tintin.\",\"userMeter\":74,\"userRating\":3.7,\"userReviews\":76244},\"metacritic\":68,\"awards\":{\"wins\":22,\"nominations\":58,\"text\":\"Nominated for 1 Oscar. Another 22 wins \\u0026 58 nominations.\"},\"type\":\"movie\"},\n",
    "{\"title\":\"The Adventures of Baron Munchausen\",\"year\":1988,\"rated\":\"PG\",\"runtime\":126,\"countries\":[\"UK\",\"Italy\"],\"genres\":[\"Adventure\",\"Comedy\",\"Fantasy\"],\"director\":\"Terry Gilliam\",\"writers\":[\"Charles McKeown\",\"Terry Gilliam\"],\"actors\":[\"John Neville\",\"Eric Idle\",\"Sarah Polley\",\"Oliver Reed\"],\"plot\":\"An account of Baron Munchausen's supposed travels and fantastical experiences with his band of misfits.\",\"poster\":\"http://ia.media-imdb.com/images/M/MV5BMTM3OTA5MTU2NF5BMl5BanBnXkFtZTcwOTIzMjk3OA@@._V1_SX300.jpg\",\"imdb\":{\"id\":\"tt0096764\",\"rating\":7.2,\"votes\":40089},\"tomato\":{\"meter\":92,\"image\":\"certified\",\"rating\":7.3,\"reviews\":51,\"fresh\":47,\"consensus\":\"Bursting with Terry Gilliam's typically imaginative flourishes, this story of a possibly deranged Baron recounting his storied life is a flamboyant and witty visual treat.\",\"userMeter\":82,\"userRating\":3.5,\"userReviews\":36148},\"metacritic\":69,\"awards\":{\"wins\":6,\"nominations\":9,\"text\":\"Nominated for 4 Oscars. Another 6 wins \\u0026 9 nominations.\"},\"type\":\"movie\"},\n",
    "{\"title\":\"The Adventures of Robin Hood\",\"year\":1938,\"rated\":\"PG\",\"runtime\":102,\"countries\":[\"USA\"],\"genres\":[\"Action\",\"Adventure\",\"Romance\"],\"director\":\"Michael Curtiz, William Keighley\",\"writers\":[\"Norman Reilly Raine\",\"Seton I. Miller\"],\"actors\":[\"Errol Flynn\",\"Olivia de Havilland\",\"Basil Rathbone\",\"Claude Rains\"],\"plot\":\"When Prince John and the Norman Lords begin oppressing the Saxon masses in King Richard's absence, a Saxon lord fights back as the outlaw leader of a rebel guerrilla army.\",\"poster\":\"http://ia.media-imdb.com/images/M/MV5BMTUxMzE0MjI0MF5BMl5BanBnXkFtZTcwMTQ1OTM2MQ@@._V1_SX300.jpg\",\"imdb\":{\"id\":\"tt0029843\",\"rating\":8,\"votes\":37543},\"tomato\":{\"meter\":100,\"image\":\"certified\",\"rating\":8.9,\"reviews\":44,\"fresh\":44,\"consensus\":\"Errol Flynn thrills as the legendary title character, and the film embodies the type of imaginative family adventure tailor-made for the silver screen.\",\"userMeter\":89,\"userRating\":3.7,\"userReviews\":33282},\"metacritic\":97,\"awards\":{\"wins\":2,\"nominations\":2,\"text\":\"Won 3 Oscars. Another 2 wins \\u0026 2 nominations.\"},\"type\":\"movie\"},\n",
    "{\"title\":\"The Adventures of Priscilla, Queen of the Desert\",\"year\":1994,\"rated\":\"R\",\"runtime\":104,\"countries\":[\"Australia\",\"UK\"],\"genres\":[\"Comedy\",\"Music\"],\"director\":\"Stephan Elliott\",\"writers\":[\"Stephan Elliott\"],\"actors\":[\"Hugo Weaving\",\"Guy Pearce\",\"Terence Stamp\",\"Rebel Penfold-Russell\"],\"plot\":\"Two drag queens and a transsexual travel across the desert to perform their unique style of cabaret.\",\"poster\":\"http://ia.media-imdb.com/images/M/MV5BMTc5MDU1NzcyN15BMl5BanBnXkFtZTcwMDA0ODYyNA@@._V1_SX300.jpg\",\"imdb\":{\"id\":\"tt0109045\",\"rating\":7.5,\"votes\":35048},\"tomato\":{\"meter\":93,\"image\":\"fresh\",\"rating\":7.1,\"reviews\":30,\"fresh\":28,\"consensus\":\"While its premise is ripe for comedy -- and it certainly delivers its fair share of laughs -- Priscilla is also a surprisingly tender and thoughtful road movie with some outstanding performances.\",\"userMeter\":88,\"userRating\":3.7,\"userReviews\":44128},\"metacritic\":68,\"awards\":{\"wins\":9,\"nominations\":16,\"text\":\"Won 1 Oscar. Another 9 wins \\u0026 16 nominations.\"},\"type\":\"movie\"},\n",
    "{\"title\":\"Adventures in Babysitting\",\"year\":1987,\"rated\":\"PG-13\",\"runtime\":102,\"countries\":[\"USA\"],\"genres\":[\"Action\",\"Adventure\",\"Comedy\"],\"director\":\"Chris Columbus\",\"writers\":[\"David Simkins\"],\"actors\":[\"Elisabeth Shue\",\"Maia Brewton\",\"Keith Coogan\",\"Anthony Rapp\"],\"plot\":\"Chris Parker agrees to babysit after her \\\"dread\\\" date stands her up. Expecting a dull evening, Chris settles down with three kids for a night of TV... and boredom. But when her frantic ...\",\"poster\":\"http://ia.media-imdb.com/images/M/MV5BMTI4NzY3Njg4Nl5BMl5BanBnXkFtZTYwNzM3ODE5._V1_SX300.jpg\",\"imdb\":{\"id\":\"tt0092513\",\"rating\":6.8,\"votes\":26195},\"awards\":{\"wins\":2,\"nominations\":4,\"text\":\"2 wins \\u0026 4 nominations.\"},\"type\":\"movie\"},\n",
    "{\"title\":\"The Many Adventures of Winnie the Pooh\",\"year\":1977,\"rated\":\"G\",\"runtime\":74,\"countries\":[\"USA\"],\"genres\":[\"Animation\",\"Family\",\"Musical\"],\"director\":\"John Lounsbery, Wolfgang Reitherman\",\"writers\":[\"A.A. Milne\",\"Larry Clemmons\",\"Ralph Wright\",\"Vance Gerry\",\"Xavier Atencio\",\"Ken Anderson\",\"Julius Svendsen\",\"Ted Berman\",\"Eric Cleworth\",\"Winston Hibler\"],\"actors\":[\"Sebastian Cabot\",\"Junius Matthews\",\"Barbara Luddy\",\"Howard Morris\"],\"plot\":\"A collection of animated shorts based on the stories and characters by A. A. Milne.\",\"poster\":\"http://ia.media-imdb.com/images/M/MV5BMTY3OTkyMzYwNV5BMl5BanBnXkFtZTcwMzkzODU0MQ@@._V1_SX300.jpg\",\"imdb\":{\"id\":\"tt0076363\",\"rating\":7.6,\"votes\":22830},\"awards\":{\"wins\":0,\"nominations\":1,\"text\":\"1 nomination.\"},\"type\":\"movie\"},\n",
    "{\"title\":\"The Adventures of Sharkboy and Lavagirl 3-D\",\"year\":2005,\"rated\":\"PG\",\"runtime\":93,\"countries\":[\"USA\"],\"genres\":[\"Action\",\"Adventure\",\"Family\"],\"director\":\"Robert Rodriguez\",\"writers\":[\"Robert Rodriguez\",\"Marcel Rodriguez\",\"Racer Rodriguez\"],\"actors\":[\"Taylor Lautner\",\"Taylor Dooley\",\"Cayden Boyd\",\"George Lopez\"],\"plot\":\"A young boy is recruited by his imaginary friends Sharkboy and Lavagirl to help save their planet.\",\"poster\":\"http://ia.media-imdb.com/images/M/MV5BMTM1NzI3OTAwMl5BMl5BanBnXkFtZTcwMTI3ODkyMQ@@._V1_SX300.jpg\",\"imdb\":{\"id\":\"tt0424774\",\"rating\":3.5,\"votes\":18621},\"tomato\":{\"meter\":20,\"image\":\"rotten\",\"rating\":4.3,\"reviews\":123,\"fresh\":24,\"consensus\":\"The decision to turn this kiddie fantasy into a 3-D film was a miscalculation.\",\"userMeter\":31,\"userRating\":2.5,\"userReviews\":31651},\"metacritic\":38,\"awards\":{\"wins\":1,\"nominations\":10,\"text\":\"1 win \\u0026 10 nominations.\"},\"type\":\"movie\"}]\n",
    "\n",
    "collection.insert_many(movies)"
   ]
  },
  {
   "cell_type": "markdown",
   "metadata": {},
   "source": [
    "***"
   ]
  },
  {
   "cell_type": "markdown",
   "metadata": {},
   "source": [
    "### Aggregation Pipeline Operators"
   ]
  },
  {
   "cell_type": "markdown",
   "metadata": {},
   "source": [
    "> The MongoDB, aggregation pipeline is a framework for data aggregation modeled on the concept of data processing pipelines. Documents enter as an input into multi-stage pipeline which transforms the documents into an aggregated results."
   ]
  },
  {
   "cell_type": "markdown",
   "metadata": {},
   "source": [
    "> The MongoDB aggregation pipeline consists various stages. Each stage transforms the documents passes through the pipeline. In this stage it is not needed to produce one output document for every input document. The pipeline stages can appear multiple times in the pipeline."
   ]
  },
  {
   "cell_type": "markdown",
   "metadata": {},
   "source": [
    "![alt text](images/aggri.png 'https://studio3t.com/')"
   ]
  },
  {
   "cell_type": "markdown",
   "metadata": {},
   "source": [
    "The `$match` stage filters those documents we need to work with, those that fit our needs. <br>\n",
    "The `$group` stage does the aggregation job and finally, we `$sort` the resulting documents the way we require. In order to store the documents obtained we use the `$output` stage."
   ]
  },
  {
   "cell_type": "markdown",
   "metadata": {},
   "source": [
    "> The input of the pipeline can be one or several collections. The pipeline then performs successive transformations on the data until our goal is achieved. This way, we can break down a complex query into easier stages, in each of which we complete a different operation on the data. So, by the end of the query pipeline, we will have achieved all that we wanted."
   ]
  },
  {
   "cell_type": "markdown",
   "metadata": {},
   "source": [
    "> This approach allows us to check whether our query is functioning properly at every stage by examining both its input and the output. The output of each stage will be the input of the next."
   ]
  },
  {
   "cell_type": "markdown",
   "metadata": {},
   "source": [
    "#### Syntax\n",
    "> This is an example of how we build the aggregation query:\n",
    "\n",
    "`pipeline = [\n",
    "  { $match : { … },\n",
    "  { $group : { … },\n",
    "  { $sort : { … },\n",
    "  ...]\n",
    "db.collectionName.aggregate(pipeline, options)`"
   ]
  },
  {
   "cell_type": "markdown",
   "metadata": {},
   "source": [
    "***"
   ]
  },
  {
   "cell_type": "markdown",
   "metadata": {},
   "source": [
    "### MongoDB Index"
   ]
  },
  {
   "cell_type": "markdown",
   "metadata": {},
   "source": [
    "> Indexes support the efficient resolution of queries. Without indexes, MongoDB must scan every document of a collection to select those documents that match the query statement. This scan is highly inefficient and require MongoDB to process a large volume of data.\n",
    "> Indexes are special data structures, that store a small portion of the data set in an easy-to-traverse form. The index stores the value of a specific field or set of fields, ordered by the value of the field as specified in the index."
   ]
  },
  {
   "cell_type": "markdown",
   "metadata": {},
   "source": [
    "> The whole point of having an index is to speed up search queries by essentially cutting down the number of records/rows in a table that needs to be examined.\n",
    "  - An index is a data structure (most commonly a B- tree) that stores the values for a specific column in a table. \n",
    "  - An index is created on a column of a table.   \n",
    "  \n",
    "> So, the key points to remember that, an index consists of column values from one table, and that, those values are stored in a data structure."
   ]
  },
  {
   "cell_type": "markdown",
   "metadata": {},
   "source": [
    "### createIndex()\n",
    "Syntax The basic syntax of createIndex() method is as follows.\n",
    "\n",
    "<p style=\"background:black\">\n",
    "<code style=\"background:black;color:white\"><br> > db.COLLECTION_NAME.createIndex({KEY:1}) <br>\n",
    "</code>\n",
    "</p>\n"
   ]
  },
  {
   "cell_type": "markdown",
   "metadata": {},
   "source": [
    "Here key is the name of the field on which you want to create index and 1 is for ascending order. To create index in descending order you need to use -1."
   ]
  },
  {
   "cell_type": "markdown",
   "metadata": {},
   "source": [
    "### dropIndex() \n",
    "You can drop a particular index using the dropIndex() method of MongoDB.  \n",
    "Syntax The basic syntax of DropIndex() method is as follows."
   ]
  },
  {
   "cell_type": "markdown",
   "metadata": {},
   "source": [
    "<p style=\"background:black\">\n",
    "<code style=\"background:black;color:white\"><br> > db.COLLECTION_NAME.dropIndex({KEY:1}) <br>\n",
    "</code>\n",
    "</p>"
   ]
  },
  {
   "cell_type": "markdown",
   "metadata": {},
   "source": [
    "Here key is the name of the field on which you want to create index and 1 is for ascending order. To create index in descending order you need to use -1."
   ]
  },
  {
   "cell_type": "markdown",
   "metadata": {},
   "source": [
    "**References:**  \n",
    "https://studio3t.com/knowledge-base/articles/mongodb-aggregation-framework/  \n",
    "https://www.w3resource.com/mongodb/aggregation/mongodb-aggregation-pipeline-operators.php  \n",
    "https://www.w3resource.com/mongodb/introduction-to-mongodb-index.php  \n",
    "https://www.tutorialspoint.com/mongodb/mongodb_indexing.htm  \n"
   ]
  },
  {
   "cell_type": "markdown",
   "metadata": {},
   "source": [
    "***"
   ]
  },
  {
   "cell_type": "markdown",
   "metadata": {},
   "source": [
    "<div class=\"alert alert-block alert-info\">\n",
    "    <b>Copyright</b> 2020 Srushti Dhamangaonkar<br>\n",
    "    <br>Permission is hereby granted, free of charge, to any person obtaining a copy of this software and associated documentation files (the \"Software\"), to deal in the Software without restriction, including without limitation the rights to use, copy, modify, merge, publish, distribute, sublicense, and/or sell copies of the Software, and to permit persons to whom the Software is furnished to do so, subject to the following conditions:<br>\n",
    "    <br>The above copyright notice and this permission notice shall be included in all copies or substantial portions of the Software.<br>\n",
    "    <br>THE SOFTWARE IS PROVIDED \"AS IS\", WITHOUT WARRANTY OF ANY KIND, EXPRESS OR IMPLIED, INCLUDING BUT NOT LIMITED TO THE WARRANTIES OF MERCHANTABILITY, FITNESS FOR A PARTICULAR PURPOSE AND NONINFRINGEMENT. IN NO EVENT SHALL THE AUTHORS OR COPYRIGHT HOLDERS BE LIABLE FOR ANY CLAIM, DAMAGES OR OTHER LIABILITY, WHETHER IN AN ACTION OF CONTRACT, TORT OR OTHERWISE, ARISING FROM, OUT OF OR IN CONNECTION WITH THE SOFTWARE OR THE USE OR OTHER DEALINGS IN THE SOFTWARE.\n",
    "    <br><br>\n",
    "    \n",
    "<div class=\"text-center\">\n",
    "    <a rel=\"license\" href=\"http://creativecommons.org/licenses/by/3.0/us/\"><img alt=\"Creative Commons License\" style=\"border-width:0\" src=\"https://i.creativecommons.org/l/by/3.0/us/88x31.png\" /></a><br />This work is licensed under a <a rel=\"license\" href=\"http://creativecommons.org/licenses/by/3.0/us/\">Creative Commons Attribution 3.0 United States License</a>.<br>\n",
    "</div></div>"
   ]
  }
 ],
 "metadata": {
  "kernelspec": {
   "display_name": "Python 3",
   "language": "python",
   "name": "python3"
  },
  "language_info": {
   "codemirror_mode": {
    "name": "ipython",
    "version": 3
   },
   "file_extension": ".py",
   "mimetype": "text/x-python",
   "name": "python",
   "nbconvert_exporter": "python",
   "pygments_lexer": "ipython3",
   "version": "3.7.4"
  }
 },
 "nbformat": 4,
 "nbformat_minor": 2
}
