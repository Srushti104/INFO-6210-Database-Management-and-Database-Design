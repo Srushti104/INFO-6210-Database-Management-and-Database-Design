{
 "cells": [
  {
   "cell_type": "markdown",
   "metadata": {},
   "source": [
    "# Introduction to SQL & NoSQL"
   ]
  },
  {
   "cell_type": "markdown",
   "metadata": {},
   "source": [
    "***"
   ]
  },
  {
   "cell_type": "markdown",
   "metadata": {},
   "source": [
    "<div class=\"alert alert-block alert-info\">\n",
    "<h3><b>Note:</b> For a Complete Learning Experience</h3>\n",
    "    <ul>\n",
    "        <li>Clone / Download the file</li>\n",
    "        <li>Open the folder in Jupyter Notebook</li>\n",
    "        <li>Go through the chapters one by one</li>\n",
    "        <li>Complete the assessment and assign a self score</li>\n",
    "    </ul><br>\n",
    "    or <ul>\n",
    "        <li>Click on the link from readme file</li>\n",
    "        <li>On the NBViewer - use the binder plugin</li>\n",
    "        <li>Go through the chapters one by one</li>\n",
    "        <li>Complete the assessment and assign a self score</li>\n",
    "    </ul>\n",
    "</div>"
   ]
  },
  {
   "cell_type": "markdown",
   "metadata": {},
   "source": [
    "![alt text](images/learning1.jpg)"
   ]
  },
  {
   "cell_type": "markdown",
   "metadata": {},
   "source": [
    "***     "
   ]
  },
  {
   "cell_type": "markdown",
   "metadata": {},
   "source": [
    "#### In this MongoDB learning book we will cover some of the core and basic functionalities of MongoDB. \n",
    "- Installing MongoDB on Windows / Mac Syatems    \n",
    "- Connecting to MongoDB Compass and MongoDB Client   \n",
    "- Intrduction to Mongo Shell  \n",
    "- Creating Database in MongoDB using Jupyter Notebook and Mongo Shell  \n",
    "- Focussing on CRUD Operations and Basic Operators  \n",
    "- Assessment  "
   ]
  },
  {
   "cell_type": "markdown",
   "metadata": {},
   "source": [
    ">To understand MongoDB we need to first need to know what SQL and NoSQL Databases are!"
   ]
  },
  {
   "cell_type": "markdown",
   "metadata": {},
   "source": [
    "#### What is an SQL Database?\n",
    "\n",
    "- SQL stands for Structured Query Language and it therefore is not a database itself but only a query language you can use to interact with a specific type of database.</dd>\n",
    "\n",
    "- SQL allows you to store, update, delete and of course retrieve data from relational database management systems (RDBMS)."
   ]
  },
  {
   "cell_type": "markdown",
   "metadata": {},
   "source": [
    "![alt text](images/sql-schema.jpg)"
   ]
  },
  {
   "cell_type": "markdown",
   "metadata": {},
   "source": [
    ">Such databases have two key characteristics:  \n",
    "  - Data is stored in database tables by following a strict data schema (= structure)  \n",
    "  - Data is distributed across multiple tables which are connected via relations  \n",
    "  \n",
    ">Some examples of SQL databases include PostgreSQL, MySQL, Oracle and Microsoft SQL Server. "
   ]
  },
  {
   "cell_type": "markdown",
   "metadata": {},
   "source": [
    "***"
   ]
  },
  {
   "cell_type": "markdown",
   "metadata": {},
   "source": [
    "#### What is NoSQL Database?\n",
    "\n",
    "When people use the term “NoSQL database”, they typically use it to refer to any non-relational database. Some say the term “NoSQL” stands for “non SQL” while others say it stands for “not only SQL.” Either way, most agree that NoSQL databases are databases that store data in a format other than relational tables.\n",
    "\n",
    "NoSQL is named like this because it basically follows the opposite approach of SQL databases.\n",
    "\n",
    "> **No schemas** it means\n",
    "    - NoSQL databases are either schema-free or have relaxed schemas\n",
    "    - Do not require any sort of definition of the schema of the data\n",
    "    - Offers heterogeneous structures of data in the same domain\n",
    "\n",
    "\n",
    "> **No relations** it means\n",
    "    - NoSQL databases never follow the relational model\n",
    "    - Never provide tables with flat fixed-column records\n",
    "    - Work with self-contained aggregates or BLOBs\n",
    "    - Doesn't require object-relational mapping and data normalization\n",
    "    - No complex features like query languages, query planners,\n",
    "    - referential integrity joins, ACID\n",
    "    \n",
    "#### NoSQL database examples include Redis, RavenDB Cassandra, MongoDB, BigTable, HBase, Neo4j and CouchDB.\n"
   ]
  },
  {
   "cell_type": "markdown",
   "metadata": {},
   "source": [
    "> **One would ask then what is the diffrence between both these databases?**"
   ]
  },
  {
   "cell_type": "markdown",
   "metadata": {},
   "source": [
    "![alt text](images/sqlvsnosql.png)"
   ]
  },
  {
   "cell_type": "markdown",
   "metadata": {},
   "source": [
    "\n",
    ">- One of the key differentiator is that NoSQL supported by column oriented databases where RDBMS is row oriented database.\n",
    ">- NoSQL seems to work better on both unstructured and unrelated data. The better solutions are the crossover databases that have elements of both NoSQL and SQL.\n",
    ">- RDBMSs that use SQL are schema–oriented which means the structure of the data should be known in advance to ensure that the data adheres to the schema. For example, predefined schema based applications that use SQL include Payroll Management System, Order Processing and Flight Reservations.\n",
    ">- SQL Databases are vertically scalable – this means that they can only be scaled by enhancing the horse power of the implementation hardware, thereby making it a costly deal for processing large batches of data.\n",
    ">- NoSQL databases give up some features of the traditional databases for speed and horizontal scalability. NoSQL databases on the other hand are perceived to be cheaper, faster and safer to extend a preexisting program to do a new job than to implement something from scratch.\n",
    ">- Even though SQL has its own set of limits, it is also a very mature technology, which is well understood, and has a large pool of developers who understand how to use it well.\n",
    ">- More importantly, data Integrity is a key feature of SQL based databases. This means, ensuring the data is validated across all the tables and there’s no duplicate, unrelated or unauthorized data inserted in the system.\n",
    "> Advantages of SQL databases are that they are typically more performant when dealing with more complex queries. Users cite the relational nature of SQL DBs encourages a well-structured database\n",
    ">- Most banking institutions have a SQL-type database system"
   ]
  },
  {
   "cell_type": "markdown",
   "metadata": {},
   "source": [
    "Both SQL and NoSQL are absolutely viable solutions. But they’re solutions to different problems - it comes down to your data and application in the end.\n",
    "\n",
    "#### So when might SQL and NoSQL be best:"
   ]
  },
  {
   "cell_type": "markdown",
   "metadata": {},
   "source": [
    "| SQL      | NoSQL |\n",
    "| :----------- | :----------- |\n",
    "| You got related data, used in different “chunks” in different parts of your app, that changes relatively often| Exact data requirements or the data itself is unknown or subject to change/ expand|\n",
    "| A clear schema is important to you and your data is unlikely to change (drastically)| You require high (read) throughput but you won’t change your data that often (i.e. you don’t need to update dozens of documents for one change all the time)|"
   ]
  },
  {
   "cell_type": "markdown",
   "metadata": {},
   "source": [
    "***"
   ]
  },
  {
   "cell_type": "markdown",
   "metadata": {},
   "source": [
    "#### As we are learning about MongoDb which is a NoSQL Database. There are four different types of NoSQL databases -"
   ]
  },
  {
   "cell_type": "markdown",
   "metadata": {},
   "source": [
    "![alt text](images/typesofnosql.png)"
   ]
  },
  {
   "cell_type": "markdown",
   "metadata": {},
   "source": [
    "#### In this learning book we would be focussing more on the Document-Based Databases, One of which is the MongoDB"
   ]
  },
  {
   "cell_type": "markdown",
   "metadata": {},
   "source": [
    "**References:**  \n",
    "https://academind.com/learn/web-dev/sql-vs-nosql/  \n",
    "https://www.guru99.com/nosql-tutorial.html  \n",
    "https://www.clariontech.com/blog/harvest-nosql-speed-with-the-combination-of-php  \n",
    "https://docs.mongodb.com/manual/reference/  "
   ]
  },
  {
   "cell_type": "markdown",
   "metadata": {},
   "source": [
    "***"
   ]
  },
  {
   "cell_type": "markdown",
   "metadata": {},
   "source": [
    "<div class=\"alert alert-block alert-info\">\n",
    "    <b>Copyright</b> 2020 Srushti Dhamangaonkar<br>\n",
    "    <br>Permission is hereby granted, free of charge, to any person obtaining a copy of this software and associated documentation files (the \"Software\"), to deal in the Software without restriction, including without limitation the rights to use, copy, modify, merge, publish, distribute, sublicense, and/or sell copies of the Software, and to permit persons to whom the Software is furnished to do so, subject to the following conditions:<br>\n",
    "    <br>The above copyright notice and this permission notice shall be included in all copies or substantial portions of the Software.<br>\n",
    "    <br>THE SOFTWARE IS PROVIDED \"AS IS\", WITHOUT WARRANTY OF ANY KIND, EXPRESS OR IMPLIED, INCLUDING BUT NOT LIMITED TO THE WARRANTIES OF MERCHANTABILITY, FITNESS FOR A PARTICULAR PURPOSE AND NONINFRINGEMENT. IN NO EVENT SHALL THE AUTHORS OR COPYRIGHT HOLDERS BE LIABLE FOR ANY CLAIM, DAMAGES OR OTHER LIABILITY, WHETHER IN AN ACTION OF CONTRACT, TORT OR OTHERWISE, ARISING FROM, OUT OF OR IN CONNECTION WITH THE SOFTWARE OR THE USE OR OTHER DEALINGS IN THE SOFTWARE.\n",
    "    <br><br>\n",
    "    \n",
    "<div class=\"text-center\">\n",
    "    <a rel=\"license\" href=\"http://creativecommons.org/licenses/by/3.0/us/\"><img alt=\"Creative Commons License\" style=\"border-width:0\" src=\"https://i.creativecommons.org/l/by/3.0/us/88x31.png\" /></a><br />This work is licensed under a <a rel=\"license\" href=\"http://creativecommons.org/licenses/by/3.0/us/\">Creative Commons Attribution 3.0 United States License</a>.<br>\n",
    "</div></div>"
   ]
  }
 ],
 "metadata": {
  "kernelspec": {
   "display_name": "Python 3",
   "language": "python",
   "name": "python3"
  },
  "language_info": {
   "codemirror_mode": {
    "name": "ipython",
    "version": 3
   },
   "file_extension": ".py",
   "mimetype": "text/x-python",
   "name": "python",
   "nbconvert_exporter": "python",
   "pygments_lexer": "ipython3",
   "version": "3.7.4"
  }
 },
 "nbformat": 4,
 "nbformat_minor": 2
}
