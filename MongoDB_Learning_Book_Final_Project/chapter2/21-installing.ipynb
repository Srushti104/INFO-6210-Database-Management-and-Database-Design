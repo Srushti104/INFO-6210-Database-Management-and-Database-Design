{
 "cells": [
  {
   "cell_type": "markdown",
   "metadata": {},
   "source": [
    "# Installing MongoDB to Local"
   ]
  },
  {
   "cell_type": "markdown",
   "metadata": {},
   "source": [
    "[Installation on Windows](#Installation-on-Windows:)  \n",
    "[Installation on Mac](#Installation-on-Mac:)\n"
   ]
  },
  {
   "cell_type": "markdown",
   "metadata": {},
   "source": [
    "![alt text](images/install.png 'https://www.digitalocean.com/ - By Mateusz Papiernik')"
   ]
  },
  {
   "cell_type": "markdown",
   "metadata": {},
   "source": [
    "***"
   ]
  },
  {
   "cell_type": "markdown",
   "metadata": {},
   "source": [
    "# Installation on Windows:"
   ]
  },
  {
   "cell_type": "markdown",
   "metadata": {},
   "source": [
    "#### Platform Support\n",
    "> MongoDB 4.2 Community Edition supports the following 64-bit versions of Windows on x86_64 architecture:\n",
    "\n",
    ">- Windows Server 2019\n",
    ">- Windows 10 / Windows Server 2016\n",
    ">- Windows 8.1 / Windows Server 2012 R2\n",
    ">- Windows 8 / Windows Server 2012\n",
    ">- Windows 7 / Windows Server 2008 R2\n",
    ">MongoDB only supports the 64-bit versions of these platforms.\n",
    "\n",
    "See [Supported Platforms](https://docs.mongodb.com/manual/administration/production-notes/#prod-notes-supported-platforms) for more information."
   ]
  },
  {
   "cell_type": "markdown",
   "metadata": {},
   "source": [
    "#### Prerequisites\n",
    "> Users on Windows versions previous to Windows 10 must install the following update before installing MongoDB:"
   ]
  },
  {
   "cell_type": "markdown",
   "metadata": {},
   "source": [
    "### 1. Download the installer -"
   ]
  },
  {
   "cell_type": "markdown",
   "metadata": {},
   "source": [
    "![alt text](images/donwload_img1.png \"MongoDB\")"
   ]
  },
  {
   "cell_type": "markdown",
   "metadata": {},
   "source": [
    "Download the MongoDB Community MSI installer from the following link:\n",
    "\n",
    ">[MongoDB Download Center](https://www.mongodb.com/download-center/community?tck=docs_server)\n",
    "\n",
    ">- In the Version dropdown, select the **version** of MongoDB to download.\n",
    ">- In the OS dropdown, select **Windows x64.**\n",
    ">- In the Package dropdown, select **MSI.**\n",
    ">- Click **Download.**"
   ]
  },
  {
   "cell_type": "markdown",
   "metadata": {},
   "source": [
    "### 2. Run the MongoDB installer\n",
    "\n",
    ">- Go to the directory where you downloaded the MongoDB installer (.msi file). By default, this is your Downloads directory.\n",
    ">- Double-click the .msi file."
   ]
  },
  {
   "cell_type": "markdown",
   "metadata": {},
   "source": [
    "![alt text](images/donwload_img2.png \"MongoDB\")"
   ]
  },
  {
   "cell_type": "markdown",
   "metadata": {},
   "source": [
    ">- Click Next. In the next window, accept the customer's license agreement and then click Next."
   ]
  },
  {
   "cell_type": "markdown",
   "metadata": {},
   "source": [
    "![alt text](images/donwload_img3.png \"MongoDB\")"
   ]
  },
  {
   "cell_type": "markdown",
   "metadata": {},
   "source": [
    ">- Choose the setup type as Complete:"
   ]
  },
  {
   "cell_type": "markdown",
   "metadata": {},
   "source": [
    "![alt text](images/donwload_img4.png \"MongoDB\")"
   ]
  },
  {
   "cell_type": "markdown",
   "metadata": {},
   "source": [
    ">- Starting in MongoDB 4.0, you can configure and start MongoDB as a Windows service during the install, and the MongoDB service is started upon successful installation."
   ]
  },
  {
   "cell_type": "markdown",
   "metadata": {},
   "source": [
    "### 4. Follow the MongoDB Community Edition installation wizard -"
   ]
  },
  {
   "cell_type": "markdown",
   "metadata": {},
   "source": [
    "![alt text](images/donwload_img5.png \"MongoDB\")"
   ]
  },
  {
   "cell_type": "markdown",
   "metadata": {},
   "source": [
    "-  Select Install MongoD as a Service MongoDB as a service.\n",
    "\n",
    "- Select either:\n",
    "\n",
    ">- Run the service as Network Service user (Default)\n",
    "   - This is a Windows user account that is built-in to Windows\n",
    "\n",
    "or\n",
    "\n",
    ">- Run the service as a local or domain user  \n",
    "   - For an existing local user account, specify a period (i.e. .) for the Account Domain and specify the Account Name and the Account Password for the user.\n",
    "   - For an existing domain user, specify the Account Domain, the Account Name and the Account Password for that user.\n",
    "   \n",
    "- Service Name. Specify the service name. Default name is MongoDB. If you already have a service with the specified name, you must choose another name.\n",
    "\n",
    "- Data Directory. Specify the data directory, which corresponds to the --dbpath. If the directory does not exist, the installer will create the directory and sets the directory access to the service user.\n",
    "\n",
    "- Log Directory. Specify the Log directory, which corresponds to the --logpath. If the directory does not exist, the installer will create the directory and sets the directory access to the service user."
   ]
  },
  {
   "cell_type": "markdown",
   "metadata": {},
   "source": [
    "### Install MongoDB Compass -\n",
    "\n",
    "\n",
    "<div class=\"alert alert-block alert-info\">\n",
    "<b>Info:</b> Compass in Mongodb is analogous to phpmyadmin for MySQL. It is a graphical tool that makes working with the database easier.</div>"
   ]
  },
  {
   "cell_type": "markdown",
   "metadata": {},
   "source": [
    "![alt text](images/donwload_img6.png \"MongoDB\")"
   ]
  },
  {
   "cell_type": "markdown",
   "metadata": {},
   "source": [
    ">- Click on the Checkbox Install MongoDB Compass and click Next to complete the installation.\n",
    "\n",
    "<div class=\"alert alert-block alert-warning\">\n",
    "<b>NOTE :</b> The install script requires PowerShell version 3.0 or greater. If you have Windows 7, unclick the Install MongoDB Compass. You can manually download Compass from the Download Center.\n",
    "</div>"
   ]
  },
  {
   "cell_type": "markdown",
   "metadata": {},
   "source": [
    "***"
   ]
  },
  {
   "cell_type": "markdown",
   "metadata": {},
   "source": [
    "# Installation on Mac:"
   ]
  },
  {
   "cell_type": "markdown",
   "metadata": {},
   "source": [
    "### Platform Support\n",
    "> MongoDB 4.2 Community Edition supports macOS 10.12 or later:\n",
    "\n",
    "See [Supported Platforms](https://docs.mongodb.com/manual/administration/production-notes/#prod-notes-supported-platforms) for more information."
   ]
  },
  {
   "cell_type": "markdown",
   "metadata": {},
   "source": [
    "### Prerequisites\n",
    "\n",
    ">- If you have the Homebrew brew package installed on your OSX host and you have previously tapped the official MongoDB Homebrew Tap, skip the prerequisites and go to the [Procedure](#Procedure) step.\n",
    "\n",
    "##### Install XCode\n",
    ">- pple’s XCode includes command-line tools that are required by brew, and is available for free on the App Store. Make sure you are running the latest version.\n",
    "##### Install Homebrew\n",
    ">- OSX does not include the Homebrew brew package by default. Install brew using the official instructions.\n",
    "##### Tap the MongoDB Homebrew Tap\n",
    ">- Issue the following from the terminal to tap the official MongoDB Homebrew Tap:\n",
    "<p style=\"background:black\">\n",
    "<code style=\"background:black;color:white\"><br> $ brew tap mongodb/brew<br>\n",
    "</code>\n"
   ]
  },
  {
   "cell_type": "markdown",
   "metadata": {},
   "source": [
    "### Procedure"
   ]
  },
  {
   "cell_type": "markdown",
   "metadata": {},
   "source": [
    "Follow these steps to install MongoDB Community Edition using the third-party brew package manager.\n",
    "\n",
    "> From a terminal, issue the following:"
   ]
  },
  {
   "cell_type": "markdown",
   "metadata": {},
   "source": [
    "<p style=\"background:black\">\n",
    "<code style=\"background:black;color:white\"><br> $ brew install mongodb-community@4.2 <br>\n",
    "</code>"
   ]
  },
  {
   "cell_type": "markdown",
   "metadata": {},
   "source": [
    "> In addition to the binaries, the install creates:\n",
    "   - the configuration file (/usr/local/etc/mongod.conf)\n",
    "   - the log directory path (/usr/local/var/log/mongodb)\n",
    "   - the data directory path (/usr/local/var/mongodb)\n"
   ]
  },
  {
   "cell_type": "markdown",
   "metadata": {},
   "source": [
    "***"
   ]
  },
  {
   "cell_type": "markdown",
   "metadata": {},
   "source": [
    "<div class=\"alert alert-block alert-info\">\n",
    "    <b>Copyright</b> 2020 Srushti Dhamangaonkar<br>\n",
    "    <br>Permission is hereby granted, free of charge, to any person obtaining a copy of this software and associated documentation files (the \"Software\"), to deal in the Software without restriction, including without limitation the rights to use, copy, modify, merge, publish, distribute, sublicense, and/or sell copies of the Software, and to permit persons to whom the Software is furnished to do so, subject to the following conditions:<br>\n",
    "    <br>The above copyright notice and this permission notice shall be included in all copies or substantial portions of the Software.<br>\n",
    "    <br>THE SOFTWARE IS PROVIDED \"AS IS\", WITHOUT WARRANTY OF ANY KIND, EXPRESS OR IMPLIED, INCLUDING BUT NOT LIMITED TO THE WARRANTIES OF MERCHANTABILITY, FITNESS FOR A PARTICULAR PURPOSE AND NONINFRINGEMENT. IN NO EVENT SHALL THE AUTHORS OR COPYRIGHT HOLDERS BE LIABLE FOR ANY CLAIM, DAMAGES OR OTHER LIABILITY, WHETHER IN AN ACTION OF CONTRACT, TORT OR OTHERWISE, ARISING FROM, OUT OF OR IN CONNECTION WITH THE SOFTWARE OR THE USE OR OTHER DEALINGS IN THE SOFTWARE.\n",
    "    <br><br>\n",
    "    \n",
    "<div class=\"text-center\">\n",
    "    <a rel=\"license\" href=\"http://creativecommons.org/licenses/by/3.0/us/\"><img alt=\"Creative Commons License\" style=\"border-width:0\" src=\"https://i.creativecommons.org/l/by/3.0/us/88x31.png\" /></a><br />This work is licensed under a <a rel=\"license\" href=\"http://creativecommons.org/licenses/by/3.0/us/\">Creative Commons Attribution 3.0 United States License</a>.<br>\n",
    "</div></div>"
   ]
  }
 ],
 "metadata": {
  "kernelspec": {
   "display_name": "Python 3",
   "language": "python",
   "name": "python3"
  },
  "language_info": {
   "codemirror_mode": {
    "name": "ipython",
    "version": 3
   },
   "file_extension": ".py",
   "mimetype": "text/x-python",
   "name": "python",
   "nbconvert_exporter": "python",
   "pygments_lexer": "ipython3",
   "version": "3.7.4"
  }
 },
 "nbformat": 4,
 "nbformat_minor": 2
}
